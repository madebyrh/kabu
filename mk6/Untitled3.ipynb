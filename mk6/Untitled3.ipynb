{
 "cells": [
  {
   "cell_type": "code",
   "execution_count": 9,
   "metadata": {},
   "outputs": [],
   "source": [
    "import pandas as pd\n",
    "import numpy as np\n",
    "from os import path\n",
    "from pathlib import Path\n",
    "\n",
    "cat = '東証二部'\n",
    "\n",
    "df = pd.read_csv('./moving_average.csv', encoding='sjis')\n",
    "\n",
    "file_list = list(Path('./price_data').glob('*csv'))\n",
    "file_name = path.basename(file_list[-1])\n",
    "# file_name\n",
    "\n",
    "l_df = pd.read_csv('./price_data/' + file_name, encoding='sjis')\n",
    "\n",
    "# 変更\n",
    "l_df = l_df[['SC', '株価', '市場']]\n",
    "l_df.drop(l_df.index[0:2], inplace=True)\n",
    "l_df = l_df[l_df['市場'] == cat]\n",
    "l_df = l_df[l_df['市場'].isnull() == False]\n",
    "l_df = l_df[l_df['株価'] != '-']\n",
    "l_df['株価'] = l_df['株価'].astype(str).astype(np.float64)"
   ]
  },
  {
   "cell_type": "code",
   "execution_count": 10,
   "metadata": {},
   "outputs": [
    {
     "data": {
      "text/plain": [
       "(471, 3)"
      ]
     },
     "execution_count": 10,
     "metadata": {},
     "output_type": "execute_result"
    }
   ],
   "source": [
    "l_df.shape"
   ]
  },
  {
   "cell_type": "code",
   "execution_count": 11,
   "metadata": {},
   "outputs": [
    {
     "data": {
      "text/html": [
       "<div>\n",
       "<style scoped>\n",
       "    .dataframe tbody tr th:only-of-type {\n",
       "        vertical-align: middle;\n",
       "    }\n",
       "\n",
       "    .dataframe tbody tr th {\n",
       "        vertical-align: top;\n",
       "    }\n",
       "\n",
       "    .dataframe thead th {\n",
       "        text-align: right;\n",
       "    }\n",
       "</style>\n",
       "<table border=\"1\" class=\"dataframe\">\n",
       "  <thead>\n",
       "    <tr style=\"text-align: right;\">\n",
       "      <th></th>\n",
       "      <th>SC</th>\n",
       "      <th>株価</th>\n",
       "      <th>市場</th>\n",
       "    </tr>\n",
       "  </thead>\n",
       "  <tbody>\n",
       "    <tr>\n",
       "      <th>27</th>\n",
       "      <td>1434</td>\n",
       "      <td>332.0</td>\n",
       "      <td>東証二部</td>\n",
       "    </tr>\n",
       "    <tr>\n",
       "      <th>32</th>\n",
       "      <td>1443</td>\n",
       "      <td>301.0</td>\n",
       "      <td>東証二部</td>\n",
       "    </tr>\n",
       "    <tr>\n",
       "      <th>39</th>\n",
       "      <td>1451</td>\n",
       "      <td>610.0</td>\n",
       "      <td>東証二部</td>\n",
       "    </tr>\n",
       "    <tr>\n",
       "      <th>40</th>\n",
       "      <td>1491</td>\n",
       "      <td>18.0</td>\n",
       "      <td>東証二部</td>\n",
       "    </tr>\n",
       "    <tr>\n",
       "      <th>47</th>\n",
       "      <td>1711</td>\n",
       "      <td>300.0</td>\n",
       "      <td>東証二部</td>\n",
       "    </tr>\n",
       "    <tr>\n",
       "      <th>...</th>\n",
       "      <td>...</td>\n",
       "      <td>...</td>\n",
       "      <td>...</td>\n",
       "    </tr>\n",
       "    <tr>\n",
       "      <th>3745</th>\n",
       "      <td>9929</td>\n",
       "      <td>400.0</td>\n",
       "      <td>東証二部</td>\n",
       "    </tr>\n",
       "    <tr>\n",
       "      <th>3758</th>\n",
       "      <td>9959</td>\n",
       "      <td>408.0</td>\n",
       "      <td>東証二部</td>\n",
       "    </tr>\n",
       "    <tr>\n",
       "      <th>3763</th>\n",
       "      <td>9967</td>\n",
       "      <td>1545.0</td>\n",
       "      <td>東証二部</td>\n",
       "    </tr>\n",
       "    <tr>\n",
       "      <th>3764</th>\n",
       "      <td>9969</td>\n",
       "      <td>265.0</td>\n",
       "      <td>東証二部</td>\n",
       "    </tr>\n",
       "    <tr>\n",
       "      <th>3772</th>\n",
       "      <td>9980</td>\n",
       "      <td>158.0</td>\n",
       "      <td>東証二部</td>\n",
       "    </tr>\n",
       "  </tbody>\n",
       "</table>\n",
       "<p>471 rows × 3 columns</p>\n",
       "</div>"
      ],
      "text/plain": [
       "        SC      株価    市場\n",
       "27    1434   332.0  東証二部\n",
       "32    1443   301.0  東証二部\n",
       "39    1451   610.0  東証二部\n",
       "40    1491    18.0  東証二部\n",
       "47    1711   300.0  東証二部\n",
       "...    ...     ...   ...\n",
       "3745  9929   400.0  東証二部\n",
       "3758  9959   408.0  東証二部\n",
       "3763  9967  1545.0  東証二部\n",
       "3764  9969   265.0  東証二部\n",
       "3772  9980   158.0  東証二部\n",
       "\n",
       "[471 rows x 3 columns]"
      ]
     },
     "execution_count": 11,
     "metadata": {},
     "output_type": "execute_result"
    }
   ],
   "source": [
    "l_df"
   ]
  },
  {
   "cell_type": "code",
   "execution_count": 12,
   "metadata": {},
   "outputs": [],
   "source": [
    "l_df = l_df[l_df['株価'] < 1000.0]"
   ]
  },
  {
   "cell_type": "code",
   "execution_count": 13,
   "metadata": {},
   "outputs": [
    {
     "data": {
      "text/plain": [
       "(269, 3)"
      ]
     },
     "execution_count": 13,
     "metadata": {},
     "output_type": "execute_result"
    }
   ],
   "source": [
    "l_df.shape"
   ]
  },
  {
   "cell_type": "code",
   "execution_count": null,
   "metadata": {},
   "outputs": [],
   "source": []
  }
 ],
 "metadata": {
  "kernelspec": {
   "display_name": "Python 3",
   "language": "python",
   "name": "python3"
  },
  "language_info": {
   "codemirror_mode": {
    "name": "ipython",
    "version": 3
   },
   "file_extension": ".py",
   "mimetype": "text/x-python",
   "name": "python",
   "nbconvert_exporter": "python",
   "pygments_lexer": "ipython3",
   "version": "3.7.7"
  }
 },
 "nbformat": 4,
 "nbformat_minor": 4
}
