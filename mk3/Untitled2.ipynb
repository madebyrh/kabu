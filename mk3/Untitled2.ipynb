{
 "cells": [
  {
   "cell_type": "code",
   "execution_count": 4,
   "metadata": {},
   "outputs": [],
   "source": [
    "import pandas as pd\n",
    "import numpy as np\n",
    "from pathlib import Path\n",
    "from os import path\n",
    "import sys\n",
    "import datetime\n",
    "\n",
    "# moving_average = sys.argv[1]\n",
    "\n",
    "#file_list = list(Path('./latest_data').glob('*csv'))\n",
    "#file_list[0]\n",
    "#file_name = path.splitext(path.basename(file_list[0]))[0]\n",
    "#file_name[23:]\n",
    "\n",
    "file_list = list(Path('./price_data').glob('*csv'))\n",
    "file_name = path.basename(file_list[-1])\n",
    "\n",
    "# latest_data = pd.read_csv('./latest_data/' + file_name + '.csv', encoding='sjis')\n",
    "latest_data = pd.read_csv('./price_data/' + file_name, encoding='sjis')\n",
    "\n",
    "reserve_data = pd.read_csv('reserve_data.csv', encoding='sjis')\n",
    "\n",
    "tmp_data = latest_data[latest_data['SC'].isin(list(reserve_data['SC']))]\n",
    "\n",
    "\n",
    "\n",
    "tmp_data2 = pd.merge(tmp_data[['SC', '名称','株価']], reserve_data[['SC', 'reserve_price']], on=['SC'], how='left')\n",
    "tmp_data2 = tmp_data2[tmp_data2['株価'] != '-']\n",
    "tmp_data2['株価'] = tmp_data2['株価'].astype(str).astype(np.float64)\n",
    "\n",
    "tmp_data3 = tmp_data2.copy()\n",
    "\n",
    "#tmp_data3.drop(tmp_data3['株価'] == tmp_data3['reserve_price'], inplace=True, axis=1)\n",
    "#tmp_data3.drop(tmp_data3[tmp_data3.columns[2]] > .1, inplace=True)\n",
    "tmp_data3 = tmp_data3[tmp_data2['株価'] > tmp_data2['reserve_price']]\n",
    "# tmp_data3['buy_date'] = file_name[23:]\n",
    "tmp_data3['buy_date'] = file_name[23:31]\n",
    "#tmp_data3['buy_date'] = datetime.date.today()\n",
    "\n",
    "tmp_data2['株価'] > tmp_data2['reserve_price']\n",
    "\n",
    "history = pd.read_csv('./histories.csv', encoding='sjis')\n",
    "\n",
    "## historyテーブルに登録するために、フォーマットをあわせる\n",
    "tmp_data3.drop('株価', axis=1, inplace=True)\n",
    "tmp_data3.rename(columns={'reserve_price': 'buy_price'}, inplace=True)\n",
    "\n",
    "# 結合する\n",
    "concat_data = pd.concat([history, tmp_data3], axis=0)\n",
    "\n",
    "#concat_data.to_csv('./histories.csv', encoding='sjis', index=None)"
   ]
  },
  {
   "cell_type": "code",
   "execution_count": 5,
   "metadata": {},
   "outputs": [
    {
     "data": {
      "text/html": [
       "<div>\n",
       "<style scoped>\n",
       "    .dataframe tbody tr th:only-of-type {\n",
       "        vertical-align: middle;\n",
       "    }\n",
       "\n",
       "    .dataframe tbody tr th {\n",
       "        vertical-align: top;\n",
       "    }\n",
       "\n",
       "    .dataframe thead th {\n",
       "        text-align: right;\n",
       "    }\n",
       "</style>\n",
       "<table border=\"1\" class=\"dataframe\">\n",
       "  <thead>\n",
       "    <tr style=\"text-align: right;\">\n",
       "      <th></th>\n",
       "      <th>SC</th>\n",
       "      <th>名称</th>\n",
       "      <th>buy_date</th>\n",
       "      <th>buy_price</th>\n",
       "      <th>sell_date</th>\n",
       "      <th>sell_price</th>\n",
       "    </tr>\n",
       "  </thead>\n",
       "  <tbody>\n",
       "    <tr>\n",
       "      <th>0</th>\n",
       "      <td>4094</td>\n",
       "      <td>日本化学産業</td>\n",
       "      <td>20200407</td>\n",
       "      <td>927.0</td>\n",
       "      <td>NaN</td>\n",
       "      <td>NaN</td>\n",
       "    </tr>\n",
       "    <tr>\n",
       "      <th>2</th>\n",
       "      <td>5974</td>\n",
       "      <td>中国工業</td>\n",
       "      <td>20200407</td>\n",
       "      <td>351.0</td>\n",
       "      <td>NaN</td>\n",
       "      <td>NaN</td>\n",
       "    </tr>\n",
       "    <tr>\n",
       "      <th>3</th>\n",
       "      <td>6279</td>\n",
       "      <td>瑞光</td>\n",
       "      <td>20200407</td>\n",
       "      <td>4037.0</td>\n",
       "      <td>NaN</td>\n",
       "      <td>NaN</td>\n",
       "    </tr>\n",
       "  </tbody>\n",
       "</table>\n",
       "</div>"
      ],
      "text/plain": [
       "     SC      名称  buy_date  buy_price sell_date sell_price\n",
       "0  4094  日本化学産業  20200407      927.0       NaN        NaN\n",
       "2  5974    中国工業  20200407      351.0       NaN        NaN\n",
       "3  6279      瑞光  20200407     4037.0       NaN        NaN"
      ]
     },
     "execution_count": 5,
     "metadata": {},
     "output_type": "execute_result"
    }
   ],
   "source": [
    "concat_data"
   ]
  },
  {
   "cell_type": "code",
   "execution_count": 3,
   "metadata": {},
   "outputs": [],
   "source": [
    "reserve_data.to_csv('reserve_data.csv', index=None, encoding='sjis')"
   ]
  },
  {
   "cell_type": "code",
   "execution_count": null,
   "metadata": {},
   "outputs": [],
   "source": []
  }
 ],
 "metadata": {
  "kernelspec": {
   "display_name": "Python 3",
   "language": "python",
   "name": "python3"
  },
  "language_info": {
   "codemirror_mode": {
    "name": "ipython",
    "version": 3
   },
   "file_extension": ".py",
   "mimetype": "text/x-python",
   "name": "python",
   "nbconvert_exporter": "python",
   "pygments_lexer": "ipython3",
   "version": "3.7.7"
  }
 },
 "nbformat": 4,
 "nbformat_minor": 4
}
